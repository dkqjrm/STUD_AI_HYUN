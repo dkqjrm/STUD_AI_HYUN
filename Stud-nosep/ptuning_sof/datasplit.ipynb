{
 "cells": [
  {
   "cell_type": "code",
   "execution_count": 1,
   "metadata": {
    "collapsed": true
   },
   "outputs": [],
   "source": [
    "import pandas as pd\n",
    "import numpy as np\n",
    "\n",
    "# Load the TSV file into a pandas dataframe\n",
    "df = pd.read_csv('dem_beh_eval_label.tsv', delimiter='\\t')\n",
    "\n",
    "# Split the dataframe by label\n",
    "label_0 = df[df.iloc[:, 3] == 0]\n",
    "label_1 = df[df.iloc[:, 3] == 1]\n",
    "\n",
    "# Calculate the number of samples for each set\n",
    "n_0 = len(label_0)\n",
    "n_1 = len(label_1)\n",
    "\n",
    "train_size = int(0.8 * (n_0 + n_1))\n",
    "val_size = int(0.1 * (n_0 + n_1))\n",
    "\n",
    "# Shuffle the samples for each label\n",
    "label_0 = label_0.sample(frac=1, random_state=42)\n",
    "label_1 = label_1.sample(frac=1, random_state=42)\n",
    "\n",
    "# Split each label into sets\n",
    "train_0 = label_0[:int(train_size * n_0 / (n_0 + n_1))]\n",
    "train_1 = label_1[:int(train_size * n_1 / (n_0 + n_1))]\n",
    "\n",
    "val_0 = label_0[int(train_size * n_0 / (n_0 + n_1)):int((train_size + val_size) * n_0 / (n_0 + n_1))]\n",
    "val_1 = label_1[int(train_size * n_1 / (n_0 + n_1)):int((train_size + val_size) * n_1 / (n_0 + n_1))]\n",
    "\n",
    "test_0 = label_0[int((train_size + val_size) * n_0 / (n_0 + n_1)):]\n",
    "test_1 = label_1[int((train_size + val_size) * n_1 / (n_0 + n_1)):]\n",
    "\n",
    "# Concatenate the sets for each label\n",
    "train = pd.concat([train_0, train_1])\n",
    "val = pd.concat([val_0, val_1])\n",
    "test = pd.concat([test_0, test_1])\n",
    "\n",
    "# Shuffle the sets\n",
    "train = train.sample(frac=1, random_state=42)\n",
    "val = val.sample(frac=1, random_state=42)\n",
    "test = test.sample(frac=1, random_state=42)\n",
    "\n",
    "# Save the sets to separate TSV files\n",
    "train.to_csv('train.tsv', sep='\\t', index=False)\n",
    "val.to_csv('val.tsv', sep='\\t', index=False)\n",
    "test.to_csv('test.tsv', sep='\\t', index=False)"
   ]
  },
  {
   "cell_type": "code",
   "execution_count": 9,
   "outputs": [
    {
     "name": "stdout",
     "output_type": "stream",
     "text": [
      "<class 'pandas.core.frame.DataFrame'>\n",
      "Int64Index: 7279 entries, 6100 to 4415\n",
      "Data columns (total 4 columns):\n",
      " #   Column                                                                                                                                          Non-Null Count  Dtype \n",
      "---  ------                                                                                                                                          --------------  ----- \n",
      " 0   2000년 출생, 남자, 대한민국 국적, 대전광역시 서구 내동에 있는 공립 외국어고등학교인 대전외국어고등학교 2019년 졸업, 신입 수시1 가톨릭교회지도자추천 2019년 입학, 국제·법정경계열 국제학부 전공, 경제학과 복수전공, 국가장학금 받지 않음 수령  7279 non-null   object\n",
      " 1   전공성적평균 매우 미흡, 교양성적평균 보통, 동아리활동 함, 학술활동 하지 않음, 봉사활동 하지 않음, 국가장학금 외 장학금 평균보다 매우 적게 받음                                                             7279 non-null   object\n",
      " 2   강의평가 : 보통, 강의 평가 세부 내용 : 평가없음                                                                                                                   7279 non-null   object\n",
      " 3   0                                                                                                                                               7279 non-null   int64 \n",
      "dtypes: int64(1), object(3)\n",
      "memory usage: 284.3+ KB\n"
     ]
    }
   ],
   "source": [
    "train.info()"
   ],
   "metadata": {
    "collapsed": false
   }
  },
  {
   "cell_type": "code",
   "execution_count": 18,
   "outputs": [],
   "source": [
    "df_counts = df.iloc[:, 3].value_counts()\n",
    "train_counts = train.iloc[:, 3].value_counts()\n",
    "val_counts = val.iloc[:, 3].value_counts()\n",
    "test_counts = test.iloc[:, 3].value_counts()"
   ],
   "metadata": {
    "collapsed": false
   }
  },
  {
   "cell_type": "code",
   "execution_count": 19,
   "outputs": [
    {
     "data": {
      "text/plain": "0    8337\n1     763\nName: 0, dtype: int64"
     },
     "execution_count": 19,
     "metadata": {},
     "output_type": "execute_result"
    }
   ],
   "source": [
    "df_counts"
   ],
   "metadata": {
    "collapsed": false
   }
  },
  {
   "cell_type": "code",
   "execution_count": 11,
   "outputs": [
    {
     "data": {
      "text/plain": "0    6669\n1     610\nName: 0, dtype: int64"
     },
     "execution_count": 11,
     "metadata": {},
     "output_type": "execute_result"
    }
   ],
   "source": [
    "train_counts"
   ],
   "metadata": {
    "collapsed": false
   }
  },
  {
   "cell_type": "code",
   "execution_count": 13,
   "outputs": [
    {
     "data": {
      "text/plain": "0    834\n1     76\nName: 0, dtype: int64"
     },
     "execution_count": 13,
     "metadata": {},
     "output_type": "execute_result"
    }
   ],
   "source": [
    "val_counts"
   ],
   "metadata": {
    "collapsed": false
   }
  },
  {
   "cell_type": "code",
   "execution_count": 14,
   "outputs": [
    {
     "data": {
      "text/plain": "0    834\n1     77\nName: 0, dtype: int64"
     },
     "execution_count": 14,
     "metadata": {},
     "output_type": "execute_result"
    }
   ],
   "source": [
    "test_counts"
   ],
   "metadata": {
    "collapsed": false
   }
  },
  {
   "cell_type": "code",
   "execution_count": 15,
   "outputs": [
    {
     "data": {
      "text/plain": "7279"
     },
     "execution_count": 15,
     "metadata": {},
     "output_type": "execute_result"
    }
   ],
   "source": [
    "len(train)"
   ],
   "metadata": {
    "collapsed": false
   }
  },
  {
   "cell_type": "code",
   "execution_count": 16,
   "outputs": [
    {
     "data": {
      "text/plain": "910"
     },
     "execution_count": 16,
     "metadata": {},
     "output_type": "execute_result"
    }
   ],
   "source": [
    "len(val)"
   ],
   "metadata": {
    "collapsed": false
   }
  },
  {
   "cell_type": "code",
   "execution_count": 17,
   "outputs": [
    {
     "data": {
      "text/plain": "911"
     },
     "execution_count": 17,
     "metadata": {},
     "output_type": "execute_result"
    }
   ],
   "source": [
    "len(test)"
   ],
   "metadata": {
    "collapsed": false
   }
  },
  {
   "cell_type": "code",
   "execution_count": null,
   "outputs": [],
   "source": [],
   "metadata": {
    "collapsed": false
   }
  }
 ],
 "metadata": {
  "kernelspec": {
   "display_name": "Python 3",
   "language": "python",
   "name": "python3"
  },
  "language_info": {
   "codemirror_mode": {
    "name": "ipython",
    "version": 2
   },
   "file_extension": ".py",
   "mimetype": "text/x-python",
   "name": "python",
   "nbconvert_exporter": "python",
   "pygments_lexer": "ipython2",
   "version": "2.7.6"
  }
 },
 "nbformat": 4,
 "nbformat_minor": 0
}
